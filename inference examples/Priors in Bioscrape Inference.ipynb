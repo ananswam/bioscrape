{
 "cells": [
  {
   "cell_type": "markdown",
   "metadata": {},
   "source": [
    "## Prior distributions in bioscrape inference"
   ]
  },
  {
   "cell_type": "markdown",
   "metadata": {},
   "source": [
    "Following prior distributions are built-in into bioscrape inference:\n",
    "\n",
    "1. Uniform distribution: A uniform distribution prior sets an upper and lower bound for a parameter as its prior distribution. \n",
    "2. Gaussian distribution\n",
    "3. Log-Gaussian distribution\n",
    "4. Exponential distribution\n",
    "5. Beta distribution \n",
    "6. Log-uniform distribution\n",
    "7. Gamma distribution\n",
    "8. Custom function"
   ]
  },
  {
   "cell_type": "markdown",
   "metadata": {},
   "source": [
    " Refer to the following link for more information on how to write prior distributions while working on parameter inference:https://github.com/biocircuits/bioscrape/wiki/Parameter-Inference"
   ]
  },
  {
   "attachments": {
    "image.png": {
     "image/png": "[encoded data removed]"
    }
   },
   "cell_type": "markdown",
   "metadata": {},
   "source": [
    "## Custom prior example:\n",
    "\n",
    "Let us create our own custom prior for a reciprocal distribution, for which the pdf is given by:\n",
    "![image.png](attachment:image.png)\n",
    "Refer https://en.wikipedia.org/wiki/Reciprocal_distribution for more details."
   ]
  },
  {
   "cell_type": "code",
   "execution_count": 15,
   "metadata": {},
   "outputs": [],
   "source": [
    "def my_own_custom_prior(param_name, param_value):\n",
    "    '''\n",
    "    Returns log-probability using a new custom prior.\n",
    "    This particular example implements a Gaussian prior\n",
    "    '''\n",
    "    # sanity check\n",
    "    if param_value <= 0 :\n",
    "        return np.Inf\n",
    "    # Create a dictionary with parameters (if any) needed to compute prior\n",
    "#     {'parameter_name':[parameter1, parameter2,...]}\n",
    "    prior_dict = {'d1': [0.01, 10],'k1':[0.1, 100]}\n",
    "#     then use,\n",
    "#     param1 = prior_dict[param_name][0]\n",
    "    # and so on...\n",
    "    a = prior_dict[param_name][0]\n",
    "    b = prior_dict[param_name][1]\n",
    "    # calculate probability p\n",
    "    p = 1 / (param_value * np.log(b/a))\n",
    "    if np.isnan(p):\n",
    "        return -np.Inf\n",
    "    return p"
   ]
  },
  {
   "cell_type": "markdown",
   "metadata": {},
   "source": [
    "# Try it out using a simple example"
   ]
  },
  {
   "cell_type": "code",
   "execution_count": 19,
   "metadata": {},
   "outputs": [
    {
     "name": "stderr",
     "output_type": "stream",
     "text": [
      "100%|█████████████████████████████████████████████████████████████████████████████| 1500/1500 [00:08<00:00, 169.87it/s]\n"
     ]
    },
    {
     "name": "stdout",
     "output_type": "stream",
     "text": [
      "Successfully completed MCMC parameter identification procedure. Parameter distribution data written to mcmc_results.csv file\n"
     ]
    }
   ],
   "source": [
    "%matplotlib inline\n",
    "import bioscrape as bs\n",
    "from bioscrape.types import Model\n",
    "from bioscrape.inference import py_inference\n",
    "\n",
    "import numpy as np\n",
    "import pylab as plt\n",
    "import pandas as pd\n",
    "# Import a bioscrape/SBML model\n",
    "M = Model(sbml_filename = 'toy_sbml_model.xml')\n",
    "# Import data from CSV\n",
    "# Import a CSV file for each experiment run\n",
    "df = pd.read_csv('test_data.csv', delimiter = '\\t', names = ['X','time'], skiprows = 1)\n",
    "M.set_species({'X':df['X'][0]})\n",
    "\n",
    "# The prior dictionary will have keys as each parameter to be estimated.\n",
    "# The value corresponding to each parameter key is a list. The first element of the list \n",
    "# has to be 'custom' to specify that a custom function will be used as a prior\n",
    "# The custom prior function needs to be the last element of the list. All other elements of the list \n",
    "# may contain any other parameters as desired\n",
    "\n",
    "prior = {'d1' : ['custom', my_own_custom_prior], 'k1' : ['custom', my_own_custom_prior]}\n",
    "\n",
    "sampler, pid = py_inference(Model = M, exp_data = df, measurements = ['X'], time_column = ['time'],\n",
    "            nwalkers = 20, init_seed = 0.15, nsteps = 1500, sim_type = 'deterministic',\n",
    "            params_to_estimate = ['d1', 'k1'], prior = prior, convergence_check = False, plot_show = False)\n"
   ]
  },
  {
   "cell_type": "code",
   "execution_count": null,
   "metadata": {},
   "outputs": [],
   "source": []
  }
 ],
 "metadata": {
  "kernelspec": {
   "display_name": "Python 3",
   "language": "python",
   "name": "python3"
  },
  "language_info": {
   "codemirror_mode": {
    "name": "ipython",
    "version": 3
   },
   "file_extension": ".py",
   "mimetype": "text/x-python",
   "name": "python",
   "nbconvert_exporter": "python",
   "pygments_lexer": "ipython3",
   "version": "3.7.4"
  }
 },
 "nbformat": 4,
 "nbformat_minor": 2
}
