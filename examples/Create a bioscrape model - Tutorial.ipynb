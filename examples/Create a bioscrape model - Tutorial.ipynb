{
 "cells": [
  {
   "cell_type": "markdown",
   "metadata": {},
   "source": [
    "## How to create a new bioscrape model?\n",
    "\n",
    "Creating a bioscrape model is simple, you could use the bioscrape API to write a simple Python script to generate the bioscrape XML, or you could simple write your own bioscrape XML file. This notebook describes both of these methods.\n",
    "\n",
    "You could also import SBML models into bioscrape, this is demonstrated at the end."
   ]
  },
  {
   "cell_type": "markdown",
   "metadata": {},
   "source": [
    "## Using bioscrape Python API\n",
    "We will create a model for the following simple chemical reaction system \n",
    "\n",
    "$\\emptyset \\xrightarrow[]{k_1} X \\; \\; \\; \\; X \\xrightarrow[]{d_1} \\emptyset$\n"
   ]
  },
  {
   "cell_type": "code",
   "execution_count": 1,
   "metadata": {
    "collapsed": true
   },
   "outputs": [],
   "source": [
    "from bioscrape.types import Model\n",
    "\n",
    "species = ['X']\n",
    "reactions = [(['X'], [], 'massaction', {'k':'d1'}), ([], ['X'], 'massaction', {'k':'k1'})]\n",
    "k1 = 10.0\n",
    "d1 = .2\n",
    "params = [('k1', k1), ('d1', d1)]\n",
    "initial_condition = {'X':0}\n",
    "M = Model(species = species, reactions = reactions, parameters = params, \n",
    "          initial_condition_dict = initial_condition)"
   ]
  },
  {
   "cell_type": "markdown",
   "metadata": {},
   "source": [
    "Now write the model to an XML file (the XML file is printed here as well)"
   ]
  },
  {
   "cell_type": "code",
   "execution_count": 2,
   "metadata": {
    "collapsed": false
   },
   "outputs": [
    {
     "name": "stdout",
     "output_type": "stream",
     "text": [
      "Bioscrape Model XML:\n",
      " <model>\n",
      "<species name=\"X\" value=\"0.0\" />\n",
      "\n",
      "<parameter name=\"d1\" value=\"0.2\" />\n",
      "<parameter name=\"k1\" value=\"10.0\" />\n",
      "\n",
      "<reaction text= \"X -- \">\n",
      "\t<propensity type=\"massaction\" k=\"d1\" species=\"X\" />\n",
      "\t<delay type=\"none\" />\n",
      "</reaction>\n",
      "<reaction text= \"-- X \">\n",
      "\t<propensity type=\"massaction\" k=\"k1\" species=\"\" />\n",
      "\t<delay type=\"none\" />\n",
      "</reaction>\n",
      "\n",
      "</model>\n"
     ]
    }
   ],
   "source": [
    "M.write_bioscrape_xml('models/txtl_model.xml')\n",
    "f = open('models/txtl_model.xml')\n",
    "print(\"Bioscrape Model XML:\\n\", f.read())"
   ]
  },
  {
   "cell_type": "markdown",
   "metadata": {},
   "source": [
    "## Use bioscrape XML specification language\n",
    "To directly write the bioscrape XML model, use the following guideline available at this link\n",
    "\n",
    "https://github.com/ananswam/bioscrape/wiki/BioSCRAPE-XML\n"
   ]
  },
  {
   "cell_type": "markdown",
   "metadata": {},
   "source": [
    "## Import SBML model into bioscrape"
   ]
  },
  {
   "cell_type": "code",
   "execution_count": 3,
   "metadata": {},
   "outputs": [
    {
     "name": "stderr",
     "output_type": "stream",
     "text": [
      "C:\\Users\\apand\\Anaconda3\\lib\\site-packages\\bioscrape\\sbmlutil.py:186: UserWarning: Compartments, UnitDefintions, Events, and some other SBML model components are not recognized by bioscrape. Refer to the bioscrape wiki for more information.\n",
      "  warnings.warn('Compartments, UnitDefintions, Events, and some other SBML model components are not recognized by bioscrape. ' +\n"
     ]
    }
   ],
   "source": [
    "from bioscrape.sbmlutil import import_sbml\n",
    "from bioscrape.types import Model\n",
    "M = Model()\n",
    "M_imported = import_sbml('models/repressilator_sbml.xml', bioscrape_model = M)"
   ]
  },
  {
   "cell_type": "markdown",
   "metadata": {},
   "source": [
    "M_imported is the bioscrape Model object imported from the SBML filename above."
   ]
  },
  {
   "cell_type": "code",
   "execution_count": 4,
   "metadata": {},
   "outputs": [
    {
     "data": {
      "text/plain": [
       "{'PX': 0.0, 'PY': 0.0, 'PZ': 0.0, 'X': 0.0, 'Y': 20.0, 'Z': 0.0}"
      ]
     },
     "execution_count": 4,
     "metadata": {},
     "output_type": "execute_result"
    }
   ],
   "source": [
    "M_imported.get_species_dictionary()"
   ]
  }
 ],
 "metadata": {
  "kernelspec": {
   "display_name": "Python 3",
   "language": "python",
   "name": "python3"
  },
  "language_info": {
   "codemirror_mode": {
    "name": "ipython",
    "version": 3
   },
   "file_extension": ".py",
   "mimetype": "text/x-python",
   "name": "python",
   "nbconvert_exporter": "python",
   "pygments_lexer": "ipython3",
   "version": "3.7.4"
  }
 },
 "nbformat": 4,
 "nbformat_minor": 2
}
